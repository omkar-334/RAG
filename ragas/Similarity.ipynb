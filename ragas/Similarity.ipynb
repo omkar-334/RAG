{
  "nbformat": 4,
  "nbformat_minor": 0,
  "metadata": {
    "colab": {
      "provenance": []
    },
    "kernelspec": {
      "name": "python3",
      "display_name": "Python 3"
    },
    "language_info": {
      "name": "python"
    }
  },
  "cells": [
    {
      "cell_type": "code",
      "execution_count": null,
      "metadata": {
        "id": "yH_A4S7tYcWK"
      },
      "outputs": [],
      "source": [
        "!pip install -q langchain==0.1.16 langchain-cohere==0.1.4 langchain-community==0.0.34 cohere==5.3.3"
      ]
    },
    {
      "cell_type": "code",
      "source": [
        "from langchain_cohere import CohereEmbeddings\n",
        "import os\n",
        "os.environ[\"COHERE_API_KEY\"] ='eo1K6TbppRIJlZcnn4bzImKQvytVckRHuEegVnnb'\n",
        "model = CohereEmbeddings(model=\"embed-english-light-v3.0\")"
      ],
      "metadata": {
        "id": "BI9F215QY9Eg"
      },
      "execution_count": null,
      "outputs": []
    },
    {
      "cell_type": "code",
      "source": [
        "embedding1 = model.embed_query('''Infineon has identified a need for engineers, account managers, and customers to rapidly obtain\n",
        "product information. This problem is traditionally addressed with retrieval-augmented generation\n",
        "(RAG) chatbots, but in this study, I evaluated the use of the newly popularized RAG-Fusion method.\n",
        "RAG-Fusion combines RAG and reciprocal rank fusion (RRF) by generating multiple queries,\n",
        "reranking them with reciprocal scores and fusing the documents and scores. Through manually\n",
        "evaluating answers on accuracy, relevance, and comprehensiveness, I found that RAG-Fusion was\n",
        "able to provide accurate and comprehensive answers due to the generated queries contextualizing the\n",
        "original query from various perspectives. However, some answers strayed off topic when the generated\n",
        "queries’ relevance to the original query is insufficient. This research marks significant progress in\n",
        "artificial intelligence (AI) and natural language processing (NLP) applications and demonstrates\n",
        "transformations in a global and multi-industry context''')\n",
        "len(embedding1)\n",
        "# import numpy as np\n",
        "# product = np.dot(embedding1, embedding2)\n",
        "# norm = np.linalg.norm(embedding1) * np.linalg.norm(embedding2)\n",
        "# product/norm"
      ],
      "metadata": {
        "colab": {
          "base_uri": "https://localhost:8080/"
        },
        "id": "WoFwGqccZWvK",
        "outputId": "87d2cab7-d9e0-4d9a-de2b-244118a9816e"
      },
      "execution_count": null,
      "outputs": [
        {
          "output_type": "execute_result",
          "data": {
            "text/plain": [
              "1021"
            ]
          },
          "metadata": {},
          "execution_count": 25
        }
      ]
    },
    {
      "cell_type": "code",
      "source": [
        "from enum import Enum\n",
        "import numpy as np\n",
        "from scipy.spatial.distance import jaccard, braycurtis, canberra, correlation\n",
        "from scipy.stats import pearsonr\n",
        "import typing as t\n",
        "EMbedding = None\n",
        "\n",
        "class SimilarityMode():\n",
        "    \"\"\"Modes for similarity/distance.\"\"\"\n",
        "    DEFAULT = ['cosine', 0.7]\n",
        "    DOT_PRODUCT = ['dot_product', 0.7]  # Similar range as cosine similarity\n",
        "    EUCLIDEAN = ['euclidean', -0.5]  # Negative values indicate similarity\n",
        "    PEARSON = ['pearson', 0.7]  # Similar range as cosine similarity\n",
        "    TANIMOTO = ['tanimoto', 0.7]\n",
        "    CANBERRA = ['canberra', -10.0]  # Negative values indicate similarity, adjust based on data\n",
        "    BRAY_CURTIS = ['bray_curtis', -0.3]  # Negative values indicate similarity\n",
        "    MAHALANOBIS = ['mahalanobis', -1.0]  # Negative values indicate similarity, adjust based on data\n",
        "    MINKOWSKI = ['minkowski', -0.5]  # Negative values indicate similarity, similar to Euclidean\n",
        "\n",
        "def similarity_fn(embedding1: np.ndarray, embedding2: np.ndarray, mode: SimilarityMode = SimilarityMode.DEFAULT, p: float = 2.0) -> float:\n",
        "    \"\"\"Get embedding similarity.\"\"\"\n",
        "    if mode == SimilarityMode.EUCLIDEAN:\n",
        "        # Using -euclidean distance as similarity to achieve same ranking order\n",
        "        return -float(np.linalg.norm(np.array(embedding1) - np.array(embedding2)))\n",
        "        # return -float(np.linalg.norm(embedding1 - embedding2))\n",
        "    elif mode == SimilarityMode.DOT_PRODUCT:\n",
        "        return np.dot(embedding1, embedding2)\n",
        "    elif mode == SimilarityMode.PEARSON:\n",
        "        return pearsonr(embedding1, embedding2)[0]\n",
        "    elif mode == SimilarityMode.TANIMOTO:\n",
        "        dot_product = np.dot(embedding1, embedding2)\n",
        "        norm_sum = np.linalg.norm(embedding1) ** 2 + np.linalg.norm(embedding2) ** 2 - dot_product\n",
        "        return dot_product / norm_sum\n",
        "    elif mode == SimilarityMode.CANBERRA:\n",
        "        return -canberra(embedding1, embedding2)\n",
        "    elif mode == SimilarityMode.BRAY_CURTIS:\n",
        "        return -braycurtis(embedding1, embedding2)\n",
        "    elif mode == SimilarityMode.MAHALANOBIS:\n",
        "        diff = np.array(embedding1) - np.array(embedding2)\n",
        "        return -np.dot(diff, diff)\n",
        "    elif mode == SimilarityMode.MINKOWSKI:\n",
        "        return -np.linalg.norm(np.array(embedding1) - np.array(embedding2), ord=p)\n",
        "    else:\n",
        "        product = np.dot(embedding1, embedding2)\n",
        "        norm = np.linalg.norm(embedding1) * np.linalg.norm(embedding2)\n",
        "        return product / norm if norm != 0 else 0"
      ],
      "metadata": {
        "id": "1S1MqrVuaV9h"
      },
      "execution_count": null,
      "outputs": []
    },
    {
      "cell_type": "code",
      "source": [
        "import pandas as pd\n",
        "dev = pd.read_csv('dev.csv')[['question', 'ground_truth']]\n",
        "main = pd.read_csv('main.csv')[['question', 'ground_truth']]"
      ],
      "metadata": {
        "id": "1z8St3knbhoe"
      },
      "execution_count": null,
      "outputs": []
    },
    {
      "cell_type": "code",
      "source": [
        "embedding1 = model.embed_query('What is your name?')\n",
        "embedding2 = model.embed_query('What names is your?')\n",
        "\n",
        "for mode_name, mode_value in SimilarityMode.dict().items():\n",
        "    print(mode_name)\n",
        "    print(similarity(embedding1, embedding2, mode_value))"
      ],
      "metadata": {
        "colab": {
          "base_uri": "https://localhost:8080/"
        },
        "id": "s6OId2KGa4X9",
        "outputId": "6f108613-cdfa-4735-c4ab-9ecec561bb3f"
      },
      "execution_count": null,
      "outputs": [
        {
          "output_type": "stream",
          "name": "stdout",
          "text": [
            "DEFAULT\n",
            "0.8501373825198895\n",
            "DOT_PRODUCT\n",
            "0.8500870152612956\n",
            "EUCLIDEAN\n",
            "-0.5474556671078117\n",
            "PEARSON\n",
            "0.8501373957702609\n",
            "TANIMOTO\n",
            "0.7393380735457463\n",
            "CANBERRA\n",
            "-161.05231213625189\n",
            "BRAY_CURTIS\n",
            "-0.288078081677164\n",
            "MAHALANOBIS\n",
            "-0.2997077074484591\n",
            "MINKOWSKI\n",
            "-0.5474556671078117\n"
          ]
        }
      ]
    },
    {
      "cell_type": "code",
      "source": [
        "Embedding = None\n",
        "def get_top_k_embeddings(\n",
        "    query_embedding: Embedding,\n",
        "    embeddings: t.List[Embedding],\n",
        "    mode,\n",
        "    similarity_cutoff = 0.7,\n",
        "    similarity_top_k = 3+1\n",
        ") -> t.Tuple[t.List[float], t.List]:\n",
        "    \"\"\"\n",
        "    Get top nodes by similarity to the query.\n",
        "    returns the scores and the embedding_ids of the nodes\n",
        "    \"\"\"\n",
        "    import heapq\n",
        "\n",
        "    embedding_ids = list(range(len(embeddings)))\n",
        "\n",
        "    embeddings_np = np.array(embeddings)\n",
        "    query_embedding_np = np.array(query_embedding)\n",
        "\n",
        "    similarity_heap: t.List[t.Tuple[float, t.Any]] = []\n",
        "    for i, emb in enumerate(embeddings_np):\n",
        "        similarity = similarity_fn(query_embedding_np, emb, mode)\n",
        "        if similarity_cutoff is None or similarity > similarity_cutoff:\n",
        "            heapq.heappush(similarity_heap, (similarity, embedding_ids[i]))\n",
        "            if similarity_top_k and len(similarity_heap) > similarity_top_k:\n",
        "                heapq.heappop(similarity_heap)\n",
        "    result_tups = sorted(similarity_heap, key=lambda x: x[0], reverse=True)\n",
        "\n",
        "    result_similarities = [s for s, _ in result_tups][1:]\n",
        "    result_ids = [n for _, n in result_tups][1:]\n",
        "    return result_similarities, result_ids"
      ],
      "metadata": {
        "id": "LLzvHAS8peAj"
      },
      "execution_count": null,
      "outputs": []
    },
    {
      "cell_type": "code",
      "source": [
        "import pandas as pd\n",
        "main = pd.read_csv('main.csv')[['question', 'ground_truth']]\n",
        "dev = pd.read_csv('dev.csv')[['question', 'ground_truth']]"
      ],
      "metadata": {
        "id": "Vu1Voc78qO_A"
      },
      "execution_count": null,
      "outputs": []
    },
    {
      "cell_type": "code",
      "source": [
        "qm = list(main['question'].astype('str'))\n",
        "embedqm = model.embed_documents(qm)\n",
        "embedqm.__len__()"
      ],
      "metadata": {
        "colab": {
          "base_uri": "https://localhost:8080/"
        },
        "id": "gv7EaQpCqXiS",
        "outputId": "5dae571d-f0cc-46fb-a520-3320d8400b17"
      },
      "execution_count": null,
      "outputs": [
        {
          "output_type": "execute_result",
          "data": {
            "text/plain": [
              "20"
            ]
          },
          "metadata": {},
          "execution_count": 28
        }
      ]
    },
    {
      "cell_type": "code",
      "source": [
        "SimilarityMode.EUCLIDEAN"
      ],
      "metadata": {
        "colab": {
          "base_uri": "https://localhost:8080/"
        },
        "id": "bnJ06k7ExUFl",
        "outputId": "1b197155-62ef-4bf9-bfc9-1c6b85d1068d"
      },
      "execution_count": null,
      "outputs": [
        {
          "output_type": "execute_result",
          "data": {
            "text/plain": [
              "['euclidean', -0.5]"
            ]
          },
          "metadata": {},
          "execution_count": 80
        }
      ]
    },
    {
      "cell_type": "code",
      "source": [
        "for i in range(20):\n",
        "  x = get_top_k_embeddings(embedqm[i], embedqm, SimilarityMode.EUCLIDEAN[0], SimilarityMode.EUCLIDEAN[1])\n",
        "  tems = [qm[j] for j in x[1] if i!=j]\n",
        "  if tems:\n",
        "    print()\n",
        "    print(i, qm[i])\n",
        "    print(x)\n",
        "    print(tems)"
      ],
      "metadata": {
        "colab": {
          "base_uri": "https://localhost:8080/"
        },
        "id": "I86fIrPqq1uP",
        "outputId": "7b4bbc44-0271-401c-80f5-28bebf475379"
      },
      "execution_count": null,
      "outputs": [
        {
          "output_type": "stream",
          "name": "stdout",
          "text": [
            "\n",
            "0 What event is depicted in the photograph of Eisenhower welcoming Ethiopian Emperor Haile Selassie to the White House in May 1954?\n",
            "([0.20163637877942941, 0.19352341164026712, 0.1874259439791411], [7, 14, 1])\n",
            "[\"What led to the end of the Cold War, considering missed peace opportunities, strengthened alliances, the Berlin Wall, and Willy Brandt's Ostpolitik?\", \"How do limited wars relate to Churchill's post-war planning and the experiences of American decision makers, specifically regarding Roosevelt's mortality, the USSR, the Atomic bomb, Pearl Harbor, surprise attack, and overwhelming war versus limited wars?\", 'What happened in the Yugoslav airliner crash in 1955?']\n",
            "\n",
            "1 What happened in the Yugoslav airliner crash in 1955?\n",
            "([0.5038169804644439, 0.43468137545667, 0.39301285875945013], [10, 5, 16])\n",
            "['What were the consequences of using atomic bombs in Hiroshima and Nagasaki and how did the world react?', 'How did the nuclear era impact the definition of a winner in the Cold War?', \"What led to the Department's classification of gays and lesbians as extreme security risks in the 1950s?\"]\n",
            "\n",
            "2 What was Khrushchev's reasoning behind ordering the construction of the Berlin Wall?\n",
            "([0.47869867138625566, 0.4335966022926269, 0.42783423016911865], [4, 13, 5])\n",
            "[\"How did the Sino-Soviet conflict influence the United States' pursuit of detente with the Soviet Union and rapprochement with China?\", \"What was Russia's response to the merger of the French, USA, and UK partitions of Berlin, and what were the consequences for the people in Western Berlin?\", 'How did the nuclear era impact the definition of a winner in the Cold War?']\n",
            "\n",
            "3 What was the nature of the \"race to disarm\" that occurred at the end of the Cold War?\n",
            "([0.5064264426791881, 0.496415118606774, 0.43472807229460597], [5, 7, 4])\n",
            "['How did the nuclear era impact the definition of a winner in the Cold War?', \"What led to the end of the Cold War, considering missed peace opportunities, strengthened alliances, the Berlin Wall, and Willy Brandt's Ostpolitik?\", \"How did the Sino-Soviet conflict influence the United States' pursuit of detente with the Soviet Union and rapprochement with China?\"]\n",
            "\n",
            "4 How did the Sino-Soviet conflict influence the United States' pursuit of detente with the Soviet Union and rapprochement with China?\n",
            "([0.5155772785954633, 0.47869867138625566, 0.45877738884991376], [6, 2, 5])\n",
            "['How did the Cold War affect international affairs and military involvement in Korea, Vietnam, and Grenada?', \"What was Khrushchev's reasoning behind ordering the construction of the Berlin Wall?\", 'How did the nuclear era impact the definition of a winner in the Cold War?']\n",
            "\n",
            "5 How did the nuclear era impact the definition of a winner in the Cold War?\n",
            "([0.8641306415806884, 0.7474037889835998, 0.610766679335846], [17, 11, 10])\n",
            "['How did the definition of a winner change in the nuclear era and the Cold War, and what factors contributed to this change?', 'What defines a winner in the Cold War in terms of political and psychological victory, balance of power, and achieving objectives?', 'What were the consequences of using atomic bombs in Hiroshima and Nagasaki and how did the world react?']\n",
            "\n",
            "6 How did the Cold War affect international affairs and military involvement in Korea, Vietnam, and Grenada?\n",
            "([0.5452830259568796, 0.5155772785954633, 0.4560118173334507], [5, 4, 7])\n",
            "['How did the nuclear era impact the definition of a winner in the Cold War?', \"How did the Sino-Soviet conflict influence the United States' pursuit of detente with the Soviet Union and rapprochement with China?\", \"What led to the end of the Cold War, considering missed peace opportunities, strengthened alliances, the Berlin Wall, and Willy Brandt's Ostpolitik?\"]\n",
            "\n",
            "7 What led to the end of the Cold War, considering missed peace opportunities, strengthened alliances, the Berlin Wall, and Willy Brandt's Ostpolitik?\n",
            "([0.496415118606774, 0.4716375847784306, 0.4679652311393068], [3, 5, 11])\n",
            "['What was the nature of the \"race to disarm\" that occurred at the end of the Cold War?', 'How did the nuclear era impact the definition of a winner in the Cold War?', 'What defines a winner in the Cold War in terms of political and psychological victory, balance of power, and achieving objectives?']\n",
            "\n",
            "8 What is the role of the US Department of State in granting security clearances to couriers, given the breakdown of the State-Army courier arrangement and the differences in clearance acquisition between State Department couriers and Army intelligence officers serving as couriers?\n",
            "([0.3014978954287512, 0.2943959106873343, 0.28023035387300604], [13, 12, 16])\n",
            "[\"What was Russia's response to the merger of the French, USA, and UK partitions of Berlin, and what were the consequences for the people in Western Berlin?\", 'What impact did the division of Europe into two major blocs have on the CSCE, considering the recognition of de facto borders and the establishment of non-interference in internal affairs, military issues, economic, technical and scientific cooperation, democratic principles, and environmental protection?', \"What led to the Department's classification of gays and lesbians as extreme security risks in the 1950s?\"]\n",
            "\n",
            "9 What was the negotiability of the Soviet position in Eastern Europe by mid-1988 and its potential implications for the Soviet colonies in the region?\n",
            "([0.840954002347208, 0.4358482092722219, 0.41358760461569155], [15, 4, 2])\n",
            "['What was the likelihood of the Soviet position in Eastern Europe becoming negotiable and potentially leading to a Finlandization of the Soviet colonies by mid-1988?', \"How did the Sino-Soviet conflict influence the United States' pursuit of detente with the Soviet Union and rapprochement with China?\", \"What was Khrushchev's reasoning behind ordering the construction of the Berlin Wall?\"]\n",
            "\n",
            "10 What were the consequences of using atomic bombs in Hiroshima and Nagasaki and how did the world react?\n",
            "([0.610766679335846, 0.5038169804644439, 0.43628665538119327], [5, 1, 17])\n",
            "['How did the nuclear era impact the definition of a winner in the Cold War?', 'What happened in the Yugoslav airliner crash in 1955?', 'How did the definition of a winner change in the nuclear era and the Cold War, and what factors contributed to this change?']\n",
            "\n",
            "11 What defines a winner in the Cold War in terms of political and psychological victory, balance of power, and achieving objectives?\n",
            "([0.7474037889835998, 0.7169639063248554, 0.4679652311393068], [5, 17, 7])\n",
            "['How did the nuclear era impact the definition of a winner in the Cold War?', 'How did the definition of a winner change in the nuclear era and the Cold War, and what factors contributed to this change?', \"What led to the end of the Cold War, considering missed peace opportunities, strengthened alliances, the Berlin Wall, and Willy Brandt's Ostpolitik?\"]\n",
            "\n",
            "12 What impact did the division of Europe into two major blocs have on the CSCE, considering the recognition of de facto borders and the establishment of non-interference in internal affairs, military issues, economic, technical and scientific cooperation, democratic principles, and environmental protection?\n",
            "([0.413899031391535, 0.36995329328874477, 0.3475431953820355], [13, 6, 7])\n",
            "[\"What was Russia's response to the merger of the French, USA, and UK partitions of Berlin, and what were the consequences for the people in Western Berlin?\", 'How did the Cold War affect international affairs and military involvement in Korea, Vietnam, and Grenada?', \"What led to the end of the Cold War, considering missed peace opportunities, strengthened alliances, the Berlin Wall, and Willy Brandt's Ostpolitik?\"]\n",
            "\n",
            "13 What was Russia's response to the merger of the French, USA, and UK partitions of Berlin, and what were the consequences for the people in Western Berlin?\n",
            "([0.45032472520547046, 0.4335966022926269, 0.4186152910263047], [4, 2, 10])\n",
            "[\"How did the Sino-Soviet conflict influence the United States' pursuit of detente with the Soviet Union and rapprochement with China?\", \"What was Khrushchev's reasoning behind ordering the construction of the Berlin Wall?\", 'What were the consequences of using atomic bombs in Hiroshima and Nagasaki and how did the world react?']\n",
            "\n",
            "14 How do limited wars relate to Churchill's post-war planning and the experiences of American decision makers, specifically regarding Roosevelt's mortality, the USSR, the Atomic bomb, Pearl Harbor, surprise attack, and overwhelming war versus limited wars?\n",
            "([0.4305855270256626, 0.3734598891297353, 0.3595452305271974], [19, 4, 7])\n",
            "['What could Truman and Stalin have discussed at the Potsdam Conference regarding the treatment of defeated countries like Japan after World War II?', \"How did the Sino-Soviet conflict influence the United States' pursuit of detente with the Soviet Union and rapprochement with China?\", \"What led to the end of the Cold War, considering missed peace opportunities, strengthened alliances, the Berlin Wall, and Willy Brandt's Ostpolitik?\"]\n",
            "\n",
            "15 What was the likelihood of the Soviet position in Eastern Europe becoming negotiable and potentially leading to a Finlandization of the Soviet colonies by mid-1988?\n",
            "([0.840954002347208, 0.36461911947571846, 0.31302248615837136], [9, 4, 13])\n",
            "['What was the negotiability of the Soviet position in Eastern Europe by mid-1988 and its potential implications for the Soviet colonies in the region?', \"How did the Sino-Soviet conflict influence the United States' pursuit of detente with the Soviet Union and rapprochement with China?\", \"What was Russia's response to the merger of the French, USA, and UK partitions of Berlin, and what were the consequences for the people in Western Berlin?\"]\n",
            "\n",
            "16 What led to the Department's classification of gays and lesbians as extreme security risks in the 1950s?\n",
            "([0.39301285875945013, 0.29884957443462046, 0.2936281176552217], [1, 3, 10])\n",
            "['What happened in the Yugoslav airliner crash in 1955?', 'What was the nature of the \"race to disarm\" that occurred at the end of the Cold War?', 'What were the consequences of using atomic bombs in Hiroshima and Nagasaki and how did the world react?']\n",
            "\n",
            "17 How did the definition of a winner change in the nuclear era and the Cold War, and what factors contributed to this change?\n",
            "([0.8641306415806884, 0.7169639063248554, 0.45267585543657723], [5, 11, 7])\n",
            "['How did the nuclear era impact the definition of a winner in the Cold War?', 'What defines a winner in the Cold War in terms of political and psychological victory, balance of power, and achieving objectives?', \"What led to the end of the Cold War, considering missed peace opportunities, strengthened alliances, the Berlin Wall, and Willy Brandt's Ostpolitik?\"]\n",
            "\n",
            "18 What does researching relevant topics offer for role-playing scenarios in terms of understanding \"characters\" and the situation they will be writing about and acting out?\n",
            "([0.31186561126281476, 0.2777699473375384, 0.23788216097768988], [14, 6, 9])\n",
            "[\"How do limited wars relate to Churchill's post-war planning and the experiences of American decision makers, specifically regarding Roosevelt's mortality, the USSR, the Atomic bomb, Pearl Harbor, surprise attack, and overwhelming war versus limited wars?\", 'How did the Cold War affect international affairs and military involvement in Korea, Vietnam, and Grenada?', 'What was the negotiability of the Soviet position in Eastern Europe by mid-1988 and its potential implications for the Soviet colonies in the region?']\n",
            "\n",
            "19 What could Truman and Stalin have discussed at the Potsdam Conference regarding the treatment of defeated countries like Japan after World War II?\n",
            "([0.4305855270256626, 0.3822423473308595, 0.37801398561917426], [14, 13, 7])\n",
            "[\"How do limited wars relate to Churchill's post-war planning and the experiences of American decision makers, specifically regarding Roosevelt's mortality, the USSR, the Atomic bomb, Pearl Harbor, surprise attack, and overwhelming war versus limited wars?\", \"What was Russia's response to the merger of the French, USA, and UK partitions of Berlin, and what were the consequences for the people in Western Berlin?\", \"What led to the end of the Cold War, considering missed peace opportunities, strengthened alliances, the Berlin Wall, and Willy Brandt's Ostpolitik?\"]\n"
          ]
        }
      ]
    },
    {
      "cell_type": "code",
      "source": [
        "from langchain_core.pydantic_v1 import BaseModel, root_validator\n",
        "import typing as t\n",
        "Example = t.Dict[str, t.Any]\n",
        "import json\n",
        "class Prompt(BaseModel):\n",
        "    \"\"\"\n",
        "    Prompt is a class that represents a prompt for the ragas metrics.\n",
        "\n",
        "    Attributes:\n",
        "        name (str): The name of the prompt.\n",
        "        instruction (str): The instruction for the prompt.\n",
        "        output_format_instruction (str): The output format instruction for the prompt.\n",
        "        examples (List[Dict[str, Any]]): List of example inputs and outputs for the prompt.\n",
        "        input_keys (List[str]): List of input variable names.\n",
        "        output_key (str): The output variable name.\n",
        "        output_type (Literal[\"json\", \"str\"]): The type of the output (default: \"json\").\n",
        "        language (str): The language of the prompt (default: \"english\").\n",
        "    \"\"\"\n",
        "\n",
        "    name: str\n",
        "    instruction: str\n",
        "    output_format_instruction: str = \"\"\n",
        "    examples: t.List[Example] = []\n",
        "    input_keys: t.List[str]\n",
        "    output_key: str\n",
        "    output_type: t.Literal[\"json\", \"str\"] = \"json\"\n",
        "    language: str = \"english\"\n",
        "\n",
        "    @root_validator\n",
        "    def validate_prompt(cls, values: t.Dict[str, t.Any]) -> t.Dict[str, t.Any]:\n",
        "        \"\"\"\n",
        "        Validate the template string to ensure that it is in desired format.\n",
        "        \"\"\"\n",
        "        if values.get(\"instruction\") is None or values.get(\"instruction\") == \"\":\n",
        "            raise ValueError(\"instruction cannot be empty\")\n",
        "        if values.get(\"input_keys\") is None or values.get(\"instruction\") == []:\n",
        "            raise ValueError(\"input_keys cannot be empty\")\n",
        "        if values.get(\"output_key\") is None or values.get(\"output_key\") == \"\":\n",
        "            raise ValueError(\"output_key cannot be empty\")\n",
        "\n",
        "        if values.get(\"examples\"):\n",
        "            output_key = values[\"output_key\"]\n",
        "            for no, example in enumerate(values[\"examples\"]):\n",
        "                for inp_key in values[\"input_keys\"]:\n",
        "                    if inp_key not in example:\n",
        "                        raise ValueError(\n",
        "                            f\"example {no+1} does not have the variable {inp_key} in the definition\"\n",
        "                        )\n",
        "                if output_key not in example:\n",
        "                    raise ValueError(\n",
        "                        f\"example {no+1} does not have the variable {output_key} in the definition\"\n",
        "                    )\n",
        "                if values[\"output_type\"].lower() == \"json\":\n",
        "                    try:\n",
        "                        if output_key in example:\n",
        "                            if isinstance(example[output_key], str):\n",
        "                                json.loads(example[output_key])\n",
        "                    except ValueError as e:\n",
        "                        raise ValueError(\n",
        "                            f\"{output_key} in example {no+1} is not in valid json format: {e}\"\n",
        "                        )\n",
        "\n",
        "        return values\n",
        "\n",
        "    def to_string(self) -> str:\n",
        "        \"\"\"\n",
        "        Generate the prompt string from the variables.\n",
        "        \"\"\"\n",
        "        prompt_elements = [self.instruction]\n",
        "        if self.output_format_instruction:\n",
        "            prompt_elements.append(\n",
        "                \"\\n\"\n",
        "                + self.output_format_instruction.replace(\"{\", \"{{\").replace(\"}\", \"}}\")\n",
        "            )\n",
        "        prompt_str = \"\\n\".join(prompt_elements) + \"\\n\"\n",
        "\n",
        "        if self.examples:\n",
        "            prompt_str += \"\\nExamples:\\n\"\n",
        "            # Format the examples to match the Langchain prompt template\n",
        "            for example in self.examples:\n",
        "                for key, value in example.items():\n",
        "                    is_json = isinstance(value, (dict, list))\n",
        "                    value = (\n",
        "                        json.dumps(value, ensure_ascii=False).encode(\"utf8\").decode()\n",
        "                    )\n",
        "                    value = (\n",
        "                        value.replace(\"{\", \"{{\").replace(\"}\", \"}}\")\n",
        "                        if self.output_type.lower() == \"json\"\n",
        "                        else value\n",
        "                    )\n",
        "                    prompt_str += (\n",
        "                        f\"\\n{key}: {value}\"\n",
        "                        if not is_json\n",
        "                        else f\"\\n{key}: ```{value}```\"\n",
        "                    )\n",
        "                prompt_str += \"\\n\"\n",
        "\n",
        "        prompt_str += \"\\nYour actual task:\\n\"\n",
        "\n",
        "        if self.input_keys:\n",
        "            prompt_str += \"\".join(f\"\\n{key}: {{{key}}}\" for key in self.input_keys)\n",
        "        if self.output_key:\n",
        "            prompt_str += f\"\\n{self.output_key}: \\n\"\n",
        "\n",
        "        return prompt_str\n"
      ],
      "metadata": {
        "id": "VQkBA0M7MGJS"
      },
      "execution_count": null,
      "outputs": []
    },
    {
      "cell_type": "code",
      "source": [
        "question_answer_prompt = Prompt(\n",
        "    name=\"answer_formulate\",\n",
        "    instruction=\"\"\"Answer the question using the information from the given context. Output verdict as '1' if answer is present '-1' if answer is not present in the context.\"\"\",\n",
        "    examples=[\n",
        "        {\n",
        "            \"context\": \"\"\"Climate change is significantly influenced by human activities, notably the emission of greenhouse gases from burning fossil fuels. The increased greenhouse gas concentration in the atmosphere traps more heat, leading to global warming and changes in weather patterns.\"\"\",\n",
        "            \"question\": \"How do human activities contribute to climate change?\",\n",
        "            \"answer\": {\n",
        "                \"answer\": \"Human activities contribute to climate change primarily through the emission of greenhouse gases from burning fossil fuels. These emissions increase the concentration of greenhouse gases in the atmosphere, which traps more heat and leads to global warming and altered weather patterns.\",\n",
        "                \"verdict\": \"1\",\n",
        "            },\n",
        "        },\n",
        "        {\n",
        "            \"context\": \"\"\"The concept of artificial intelligence (AI) has evolved over time, but it fundamentally refers to machines designed to mimic human cognitive functions. AI can learn, reason, perceive, and, in some instances, react like humans, making it pivotal in fields ranging from healthcare to autonomous vehicles.\"\"\",\n",
        "            \"question\": \"What are the key capabilities of artificial intelligence?\",\n",
        "            \"answer\": {\n",
        "                \"answer\": \"Artificial intelligence is designed to mimic human cognitive functions, with key capabilities including learning, reasoning, perception, and reacting to the environment in a manner similar to humans. These capabilities make AI pivotal in various fields, including healthcare and autonomous driving.\",\n",
        "                \"verdict\": \"1\",\n",
        "            },\n",
        "        },\n",
        "        {\n",
        "            \"context\": \"\"\"The novel \"Pride and Prejudice\" by Jane Austen revolves around the character Elizabeth Bennet and her family. The story is set in the 19th century in rural England and deals with issues of marriage, morality, and misconceptions.\"\"\",\n",
        "            \"question\": \"What year was 'Pride and Prejudice' published?\",\n",
        "            \"answer\": {\n",
        "                \"answer\": \"The answer to given question is not present in context\",\n",
        "                \"verdict\": \"-1\",\n",
        "            },\n",
        "        },\n",
        "    ],\n",
        "    input_keys=[\"context\", \"question\"],\n",
        "    output_key=\"answer\",\n",
        "    output_type=\"json\",\n",
        "    language=\"english\",\n",
        ")\n",
        "\n",
        "keyphrase_extraction_prompt = Prompt(\n",
        "    name=\"keyphrase_extraction\",\n",
        "    instruction=\"Extract the top 3 to 5 keyphrases from the provided text, focusing on the most significant and distinctive aspects. \",\n",
        "    examples=[\n",
        "        {\n",
        "            \"text\": \"A black hole is a region of spacetime where gravity is so strong that nothing, including light and other electromagnetic waves, has enough energy to escape it. The theory of general relativity predicts that a sufficiently compact mass can deform spacetime to form a black hole.\",\n",
        "            \"output\": {\n",
        "                \"keyphrases\": [\n",
        "                    \"Black hole\",\n",
        "                    \"Region of spacetime\",\n",
        "                    \"Strong gravity\",\n",
        "                    \"Light and electromagnetic waves\",\n",
        "                    \"Theory of general relativity\",\n",
        "                ]\n",
        "            },\n",
        "        },\n",
        "        {\n",
        "            \"text\": \"The Great Wall of China is an ancient series of walls and fortifications located in northern China, built around 500 years ago. This immense wall stretches over 13,000 miles and is a testament to the skill and persistence of ancient Chinese engineers.\",\n",
        "            \"output\": {\n",
        "                \"keyphrases\": [\n",
        "                    \"Great Wall of China\",\n",
        "                    \"Ancient fortifications\",\n",
        "                    \"Northern China\",\n",
        "                ]\n",
        "            },\n",
        "        },\n",
        "    ],\n",
        "    input_keys=[\"text\"],\n",
        "    output_key=\"output\",\n",
        "    output_type=\"json\",\n",
        ")\n",
        "\n",
        "\n",
        "seed_question_prompt = Prompt(\n",
        "    name=\"seed_question\",\n",
        "    instruction=\"Generate a question that can be fully answered from given context. The question should be formed using topic\",\n",
        "    examples=[\n",
        "        {\n",
        "            \"context\": \"Photosynthesis in plants involves converting light energy into chemical energy, using chlorophyll and other pigments to absorb light. This process is crucial for plant growth and the production of oxygen.\",\n",
        "            \"keyphrase\": \"Photosynthesis\",\n",
        "            \"question\": \"What is the role of photosynthesis in plant growth?\",\n",
        "        },\n",
        "        {\n",
        "            \"context\": \"The Industrial Revolution, starting in the 18th century, marked a major turning point in history as it led to the development of factories and urbanization.\",\n",
        "            \"keyphrase\": \"Industrial Revolution\",\n",
        "            \"question\": \"How did the Industrial Revolution mark a major turning point in history?\",\n",
        "        },\n",
        "        {\n",
        "            \"context\": \"The process of evaporation plays a crucial role in the water cycle, converting water from liquid to vapor and allowing it to rise into the atmosphere.\",\n",
        "            \"keyphrase\": \"Evaporation\",\n",
        "            \"question\": \"Why is evaporation important in the water cycle?\",\n",
        "        },\n",
        "    ],\n",
        "    input_keys=[\"context\", \"keyphrase\"],\n",
        "    output_key=\"question\",\n",
        "    output_type=\"str\",\n",
        ")"
      ],
      "metadata": {
        "id": "0gcY2j3LNM5e"
      },
      "execution_count": null,
      "outputs": []
    },
    {
      "cell_type": "code",
      "source": [
        "print(question_answer_prompt.to_string())"
      ],
      "metadata": {
        "colab": {
          "base_uri": "https://localhost:8080/"
        },
        "id": "VK-Ie9rlNPFP",
        "outputId": "6c2c9542-bbec-46e0-c76d-bd2b7750f322"
      },
      "execution_count": null,
      "outputs": [
        {
          "output_type": "stream",
          "name": "stdout",
          "text": [
            "Answer the question using the information from the given context. Output verdict as '1' if answer is present '-1' if answer is not present in the context.\n",
            "\n",
            "Examples:\n",
            "\n",
            "context: \"Climate change is significantly influenced by human activities, notably the emission of greenhouse gases from burning fossil fuels. The increased greenhouse gas concentration in the atmosphere traps more heat, leading to global warming and changes in weather patterns.\"\n",
            "question: \"How do human activities contribute to climate change?\"\n",
            "answer: ```{{\"answer\": \"Human activities contribute to climate change primarily through the emission of greenhouse gases from burning fossil fuels. These emissions increase the concentration of greenhouse gases in the atmosphere, which traps more heat and leads to global warming and altered weather patterns.\", \"verdict\": \"1\"}}```\n",
            "\n",
            "context: \"The concept of artificial intelligence (AI) has evolved over time, but it fundamentally refers to machines designed to mimic human cognitive functions. AI can learn, reason, perceive, and, in some instances, react like humans, making it pivotal in fields ranging from healthcare to autonomous vehicles.\"\n",
            "question: \"What are the key capabilities of artificial intelligence?\"\n",
            "answer: ```{{\"answer\": \"Artificial intelligence is designed to mimic human cognitive functions, with key capabilities including learning, reasoning, perception, and reacting to the environment in a manner similar to humans. These capabilities make AI pivotal in various fields, including healthcare and autonomous driving.\", \"verdict\": \"1\"}}```\n",
            "\n",
            "context: \"The novel \\\"Pride and Prejudice\\\" by Jane Austen revolves around the character Elizabeth Bennet and her family. The story is set in the 19th century in rural England and deals with issues of marriage, morality, and misconceptions.\"\n",
            "question: \"What year was 'Pride and Prejudice' published?\"\n",
            "answer: ```{{\"answer\": \"The answer to given question is not present in context\", \"verdict\": \"-1\"}}```\n",
            "\n",
            "Your actual task:\n",
            "\n",
            "context: {context}\n",
            "question: {question}\n",
            "answer: \n",
            "\n"
          ]
        }
      ]
    },
    {
      "cell_type": "code",
      "source": [
        "print(keyphrase_extraction_prompt.to_string())"
      ],
      "metadata": {
        "colab": {
          "base_uri": "https://localhost:8080/"
        },
        "id": "Hzqcx6vINcrw",
        "outputId": "3cdc0459-2155-43a8-a9fd-aea6633ce70f"
      },
      "execution_count": null,
      "outputs": [
        {
          "output_type": "stream",
          "name": "stdout",
          "text": [
            "Extract the top 3 to 5 keyphrases from the provided text, focusing on the most significant and distinctive aspects. \n",
            "\n",
            "Examples:\n",
            "\n",
            "text: \"A black hole is a region of spacetime where gravity is so strong that nothing, including light and other electromagnetic waves, has enough energy to escape it. The theory of general relativity predicts that a sufficiently compact mass can deform spacetime to form a black hole.\"\n",
            "output: ```{{\"keyphrases\": [\"Black hole\", \"Region of spacetime\", \"Strong gravity\", \"Light and electromagnetic waves\", \"Theory of general relativity\"]}}```\n",
            "\n",
            "text: \"The Great Wall of China is an ancient series of walls and fortifications located in northern China, built around 500 years ago. This immense wall stretches over 13,000 miles and is a testament to the skill and persistence of ancient Chinese engineers.\"\n",
            "output: ```{{\"keyphrases\": [\"Great Wall of China\", \"Ancient fortifications\", \"Northern China\"]}}```\n",
            "\n",
            "Your actual task:\n",
            "\n",
            "text: {text}\n",
            "output: \n",
            "\n"
          ]
        }
      ]
    },
    {
      "cell_type": "code",
      "source": [
        "print(seed_question_prompt.to_string())"
      ],
      "metadata": {
        "colab": {
          "base_uri": "https://localhost:8080/"
        },
        "id": "SSNWP4asNh1H",
        "outputId": "93314f97-b426-42b0-db09-713b93625496"
      },
      "execution_count": null,
      "outputs": [
        {
          "output_type": "stream",
          "name": "stdout",
          "text": [
            "Generate a question that can be fully answered from given context. The question should be formed using topic\n",
            "\n",
            "Examples:\n",
            "\n",
            "context: \"Photosynthesis in plants involves converting light energy into chemical energy, using chlorophyll and other pigments to absorb light. This process is crucial for plant growth and the production of oxygen.\"\n",
            "keyphrase: \"Photosynthesis\"\n",
            "question: \"What is the role of photosynthesis in plant growth?\"\n",
            "\n",
            "context: \"The Industrial Revolution, starting in the 18th century, marked a major turning point in history as it led to the development of factories and urbanization.\"\n",
            "keyphrase: \"Industrial Revolution\"\n",
            "question: \"How did the Industrial Revolution mark a major turning point in history?\"\n",
            "\n",
            "context: \"The process of evaporation plays a crucial role in the water cycle, converting water from liquid to vapor and allowing it to rise into the atmosphere.\"\n",
            "keyphrase: \"Evaporation\"\n",
            "question: \"Why is evaporation important in the water cycle?\"\n",
            "\n",
            "Your actual task:\n",
            "\n",
            "context: {context}\n",
            "keyphrase: {keyphrase}\n",
            "question: \n",
            "\n"
          ]
        }
      ]
    },
    {
      "cell_type": "code",
      "source": [
        "find_relevant_context_prompt = Prompt(\n",
        "    name=\"find_relevant_context\",\n",
        "    instruction=\"Given a question and set of contexts, find the most relevant contexts to answer the question.\",\n",
        "    examples=[\n",
        "        {\n",
        "            \"question\": \"What is the capital of France?\",\n",
        "            \"contexts\": [\n",
        "                \"1. France is a country in Western Europe. It has several cities, including Paris, Lyon, and Marseille. Paris is not only known for its cultural landmarks like the Eiffel Tower and the Louvre Museum but also as the administrative center.\",\n",
        "                \"2. The capital of France is Paris. It is also the most populous city in France, with a population of over 2 million people. Paris is known for its cultural landmarks like the Eiffel Tower and the Louvre Museum.\",\n",
        "                \"3. Paris is the capital of France. It is also the most populous city in France, with a population of over 2 million people. Paris is known for its cultural landmarks like the Eiffel Tower and the Louvre Museum.\",\n",
        "            ],\n",
        "            \"output\": {\n",
        "                \"relevant_contexts\": [1, 2],\n",
        "            },\n",
        "        },\n",
        "        {\n",
        "            \"question\": \"How does caffeine affect the body and what are its common sources?\",\n",
        "            \"contexts\": [\n",
        "                \"1. Caffeine is a central nervous system stimulant. It can temporarily ward off drowsiness and restore alertness. It primarily affects the brain, where it alters the function of neurotransmitters.\",\n",
        "                \"2. Regular physical activity is essential for maintaining good health. It can help control weight, combat health conditions, boost energy, and promote better sleep.\",\n",
        "                \"3. Common sources of caffeine include coffee, tea, cola, and energy drinks. These beverages are consumed worldwide and are known for providing a quick boost of energy.\",\n",
        "            ],\n",
        "            \"output\": {\"relevant_contexts\": [1, 2]},\n",
        "        },\n",
        "    ],\n",
        "    input_keys=[\"question\", \"contexts\"],\n",
        "    output_key=\"output\",\n",
        "    output_type=\"json\",\n",
        "    language=\"english\",\n",
        ")\n",
        "print(find_relevant_context_prompt.to_string())"
      ],
      "metadata": {
        "colab": {
          "base_uri": "https://localhost:8080/"
        },
        "id": "j20RCOgIOOWp",
        "outputId": "dc57f8ae-ef77-4a0a-a417-1c8be4be1e53"
      },
      "execution_count": null,
      "outputs": [
        {
          "output_type": "stream",
          "name": "stdout",
          "text": [
            "Given a question and set of contexts, find the most relevant contexts to answer the question.\n",
            "\n",
            "Examples:\n",
            "\n",
            "question: \"What is the capital of France?\"\n",
            "contexts: ```[\"1. France is a country in Western Europe. It has several cities, including Paris, Lyon, and Marseille. Paris is not only known for its cultural landmarks like the Eiffel Tower and the Louvre Museum but also as the administrative center.\", \"2. The capital of France is Paris. It is also the most populous city in France, with a population of over 2 million people. Paris is known for its cultural landmarks like the Eiffel Tower and the Louvre Museum.\", \"3. Paris is the capital of France. It is also the most populous city in France, with a population of over 2 million people. Paris is known for its cultural landmarks like the Eiffel Tower and the Louvre Museum.\"]```\n",
            "output: ```{{\"relevant_contexts\": [1, 2]}}```\n",
            "\n",
            "question: \"How does caffeine affect the body and what are its common sources?\"\n",
            "contexts: ```[\"1. Caffeine is a central nervous system stimulant. It can temporarily ward off drowsiness and restore alertness. It primarily affects the brain, where it alters the function of neurotransmitters.\", \"2. Regular physical activity is essential for maintaining good health. It can help control weight, combat health conditions, boost energy, and promote better sleep.\", \"3. Common sources of caffeine include coffee, tea, cola, and energy drinks. These beverages are consumed worldwide and are known for providing a quick boost of energy.\"]```\n",
            "output: ```{{\"relevant_contexts\": [1, 2]}}```\n",
            "\n",
            "Your actual task:\n",
            "\n",
            "question: {question}\n",
            "contexts: {contexts}\n",
            "output: \n",
            "\n"
          ]
        }
      ]
    }
  ]
}