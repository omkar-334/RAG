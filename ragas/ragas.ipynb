{
 "cells": [
  {
   "cell_type": "code",
   "execution_count": 1,
   "metadata": {},
   "outputs": [],
   "source": [
    "from langchain_community.document_loaders import DirectoryLoader, PyPDFLoader\n",
    "from langchain_text_splitters import RecursiveCharacterTextSplitter\n",
    "path = \"pdffiles\"\n",
    "loader = DirectoryLoader(path, glob=\"**/*.pdf\", loader_cls=PyPDFLoader, silent_errors=True)\n",
    "pages = loader.load_and_split()\n",
    "text_splitter = RecursiveCharacterTextSplitter(chunk_size=512, chunk_overlap=100, length_function=len, is_separator_regex=False)\n",
    "texts = text_splitter.create_documents([pages[i].page_content for i in range(len(pages))])"
   ]
  },
  {
   "cell_type": "code",
   "execution_count": 8,
   "metadata": {},
   "outputs": [
    {
     "data": {
      "text/plain": [
       "{'page_content': '133MODULE - 5\\nContemporary World\\nNotes\\nHISTORY THE COLD WAR  ERA AND ITS POLITICS\\nfrom the USA. In North Korea a pro-Soviet Government was set up. Neither the\\nSoviet Union nor the U.S.A. recognised the governments which were opposed tothem. In 1950, North Korea invaded South Korea. The United Nations, whose per-\\nmanent Security Council was dominated by capitalist states, declared North Korea\\nthe aggressor and set up a unified UN command to repel the North Korean attack.General MacArthur of the USA was named its commander. The UN troops pushed\\nNorth Korean forces out of South Korea and entered deep into the North Korean\\nterritory, reaching the Chinese border. China then joined the North Korean troops topush the UN troops into South Korea. Ultimately an armistice was signed in 1953\\nbringing to an end the threat of an open war. The Korean crisis was the first military\\nstruggle of the Cold War. The USA and USSR and PRC did not engage in muchdirect combat with one another (although North Korean aircrafts were actually flown\\nby Soviet pilots) but they fought each others’ client powers (the Republic of Korea\\nand the Democratic Republic of Korea: neither was actually a democracy!).\\nINTEXT QUESTIONS 25.3\\n1. Which countries future was discussed at Yalta conferences?\\n2. Which leader coined the famous term “Iron Curtain”?\\n3. What was the aim of the Truman Doctrine?\\n4. What does NATO stand for?\\n25.4 SECOND PHASE OF THE COLD WAR : POST\\nTRUMAN-STALIN ERA\\n In the second phase, tensions eased considerably but there was no end to the Cold\\nWar. In both the countries, there was a leadership change at the highest level. In the\\nUSA President Truman’s tenure came to an end in 1953 and in the Soviet Union\\nStalin died in 1953. Stalin was succeeded by Nikita Khrushchev, who retreated onmany of the policies of Stalin. On the policy front, Khrushchev stood for the policy of\\nrelaxation of tension in Europe and admitted Soviet responsibility for some problems\\nthere. On the other hand, he openly suppressed anti-Soviet leaders and ideas in Po-land and Hungary and denounced as ‘fascist’ the activities of liberals and Catholics\\nwho expressed Polish and Hungarian nationalism. Soviet leaders during this period\\nalso commented critically on racial conflicts in the USA, which they said were inevi-table consequences of capitalist inequality. For its part, the USA and its clients tried to\\nstir up anti-Soviet feelings in the East European countries.\\nThe change of leaders in the USSR and Khrushchev’s denunciation of Stalinism\\ninspired revolts in Poland and Hungry. In 1956, revolt broke out in Poznan city of\\nPoland but was suppressed. The Communist Party of Poland became divided into',\n",
       " 'metadata': {'source': 'pdffiles\\\\file4.pdf', 'page': 6},\n",
       " 'type': 'Document'}"
      ]
     },
     "execution_count": 8,
     "metadata": {},
     "output_type": "execute_result"
    }
   ],
   "source": [
    "pages[6].dict()"
   ]
  },
  {
   "cell_type": "code",
   "execution_count": null,
   "metadata": {},
   "outputs": [],
   "source": [
    "from langchain_openai import ChatOpenAI, OpenAIEmbeddings\n",
    "from ragas.testset.generator import TestsetGenerator\n",
    "from ragas.testset.evolutions import simple, reasoning, multi_context\n",
    "\n",
    "# from langchain_together import Together\n",
    "# from langchain_together.embeddings import TogetherEmbeddings\n",
    "# together_key = \"\"\n",
    "\n",
    "# generator_llm = Together(\n",
    "#     model=\"NousResearch/Nous-Hermes-2-Mixtral-8x7B-SFT\",\n",
    "#     temperature=0.7,\n",
    "#     max_tokens=4000,\n",
    "#     top_k=1,\n",
    "#     together_api_key=together_key\n",
    "# )\n",
    "generator_llm = ChatOpenAI(model=\"gpt-3.5-turbo-16k\",openai_api_key='')\n",
    "critic_llm = ChatOpenAI(\n",
    "    model=\"explodinggradients/Ragas-critic-llm-Qwen1.5-GPTQ\",\n",
    "    openai_api_key=\"\",\n",
    "    openai_api_base=\"https://api.runpod.ai/v2/1lh33m6cyf1cue/openai/v1\",\n",
    "    max_tokens=2048,\n",
    "    temperature=0,\n",
    ")\n",
    "embeddings = OpenAIEmbeddings(openai_api_key='')\n",
    "# embeddings = TogetherEmbeddings(model=\"togethercomputer/m2-bert-80M-8k-retrieval\")\n",
    "\n",
    "generator = TestsetGenerator.from_langchain(\n",
    "    generator_llm,\n",
    "    critic_llm,\n",
    "    embeddings\n",
    ")\n",
    "\n",
    "distributions = {\n",
    "    simple: 0.33,\n",
    "    multi_context: 0.33,\n",
    "    reasoning: 0.34\n",
    "}\n",
    "\n",
    "testset = generator.generate_with_langchain_docs(texts, 15, distributions)\n",
    "df = testset.to_pandas()\n",
    "df[['question', 'ground_truth']]"
   ]
  },
  {
   "cell_type": "code",
   "execution_count": 6,
   "metadata": {},
   "outputs": [
    {
     "name": "stdout",
     "output_type": "stream",
     "text": [
      "{'choices': [{'finish_reason': 'length', 'index': 0, 'logprobs': None, 'text': ' there was a young woman who had a difficult time in her life. It was a time when she was very worried about her health and her ability to provide a life for her child.  One day, while out shopping, she met a wise old woman who asked her why she was so worried. The woman explained her problems. The woman who then asked her what she could do to help her. The woman answered, \"The only thing I do is to be kind and considerate to other people and to be true to myself. \"  The woman said, \"That is all?\\'  \"The woman answered, \"I have one more thing to add. I also have another child to care for in a very serious condition. I have not only to be kind and considerate to other people, but also to be kind and considerate to them in the outside world.  The woman said, \"That is the most important part of the job. I have a 2-year-old child. The other one is 112813361622623323226333333333333433333333333333333333333333333333333333333333333333333333333333333333333333333333333333333333333333333333333333333333333333333333333333333333333333333333333333333333333333333333333333333333333333333333333333333333333333333333333333333333333333333333333333333333333333333333333333333333333333333333333333333333333333333333333333333333333333333333333333333333333333333333333333333333333333333333333333333333333333333333333333333333333333333333333333333333333333333333333333333333333333333333333333333333333333333333333333333333333333333333333333333333333333333333333333333333333333333333333333333333333333333333333333333333333333333333333333333333333333333333333333333333333333333333333333333333333333333333333333333333333333333333333333333333333333333333333333333333333333333333333333333333333333333333333333333333333333333333333333333333333333333333333333333333333333333333333333333333333333333333333333333333333333333333333333333333333333333333333333333333333333333333333333333333333333333333333333333333333333333333333333333333333333333333333333333333333333333333333333333333333333333333333333333333333333333333333333333333333333333333333333333333333333333333333333333333333333333333333333333333333333333333333333333333333333333333333333333333333333333333333333333333333333333333333333333333333333333333333333333333333333333333333333333333333333333333333333333333333333333333333333333333333333333333333333333333333333333333333333333333333333333333333333333333333333333333333333333333333333333333333333333333333333333333333333333333333333333333333333333333333333333333333333333333333333333333333333333333333333333333333333333333333333333333333333333333333333333333333333333333333333333333333333333333333333333333333333333333333333333333333333333333333333333333'}], 'created': 3047095, 'id': 'cmpl-4ae6322348f240c890bcf35fb606c71c', 'model': 'explodinggradients/Ragas-critic-llm-Qwen1.5-GPTQ', 'object': 'text_completion', 'usage': {'completion_tokens': 2000, 'prompt_tokens': 4, 'total_tokens': 2004}}\n"
     ]
    }
   ],
   "source": [
    "import requests\n",
    "\n",
    "def create_completion(base_url, prompt, api_key):\n",
    "    completion_endpoint = base_url + \"/completions\"\n",
    "    headers = {\n",
    "        \"Content-Type\": \"application/json\",\n",
    "        \"Authorization\": f\"Bearer {api_key}\"\n",
    "    }\n",
    "    data = {\n",
    "        \"model\":\"explodinggradients/Ragas-critic-llm-Qwen1.5-GPTQ\",\n",
    "        \"prompt\": prompt,\n",
    "        \"max_tokens\": 2000,\n",
    "        \"temperature\": 0.7,\n",
    "    }\n",
    "    response = requests.post(completion_endpoint, json=data, headers=headers)\n",
    "    return response.json()\n",
    "\n",
    "# Example usage:\n",
    "base_url = \"https://api.runpod.ai/v2/1lh33m6cyf1cue/openai/v1\"\n",
    "api_key = \"\"\n",
    "prompt = \"Once upon a time\"\n",
    "completion = create_completion(base_url, prompt, api_key)\n",
    "print(completion)\n"
   ]
  }
 ],
 "metadata": {
  "kernelspec": {
   "display_name": "Python 3",
   "language": "python",
   "name": "python3"
  },
  "language_info": {
   "codemirror_mode": {
    "name": "ipython",
    "version": 3
   },
   "file_extension": ".py",
   "mimetype": "text/x-python",
   "name": "python",
   "nbconvert_exporter": "python",
   "pygments_lexer": "ipython3",
   "version": "3.9.13"
  }
 },
 "nbformat": 4,
 "nbformat_minor": 2
}
