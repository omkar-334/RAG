{
 "cells": [
  {
   "cell_type": "code",
   "execution_count": 26,
   "metadata": {},
   "outputs": [],
   "source": [
    "import pandas as pd\n",
    "\n",
    "dataset1 = pd.read_csv('main.csv').rename(columns={'ground_truth':'answer'})[['question', 'answer']].dropna()\n",
    "dataset2 = pd.read_csv('dev.csv').rename(columns={'ground_truth':'answer'})[['question', 'answer']].dropna()\n",
    "\n",
    "# Determine the smaller dataset and its length\n",
    "if len(dataset1) < len(dataset2):\n",
    "    dataset2 = dataset2.head(len(dataset1))\n",
    "else:\n",
    "    dataset2 = dataset2.head(len(dataset2))\n"
   ]
  },
  {
   "cell_type": "code",
   "execution_count": 27,
   "metadata": {},
   "outputs": [],
   "source": [
    "import string\n",
    "from collections import Counter\n",
    "from scipy.stats import ks_2samp, pearsonr\n",
    "\n",
    "def preprocess_text(text):\n",
    "    \"\"\"\n",
    "    Preprocess the text data.\n",
    "    \"\"\"\n",
    "    # Remove punctuation and convert to lowercase\n",
    "    translator = str.maketrans('', '', string.punctuation)\n",
    "    text = text.translate(translator).lower()\n",
    "    return text\n",
    "\n",
    "def statistical_similarity(data):\n",
    "    \"\"\"\n",
    "    Calculate statistical properties of the dataset.\n",
    "    \"\"\"\n",
    "    question_lengths = [len(preprocess_text(q)) for q in data['question']]\n",
    "    answer_lengths = [len(preprocess_text(a)) for a in data['answer']]\n",
    "    \n",
    "    q_mean, q_std = np.mean(question_lengths), np.std(question_lengths)\n",
    "    a_mean, a_std = np.mean(answer_lengths), np.std(answer_lengths)\n",
    "    \n",
    "    return (q_mean, q_std), (a_mean, a_std)\n",
    "\n",
    "def ks_test(data1, data2):\n",
    "    \"\"\"\n",
    "    Perform the Kolmogorov-Smirnov test to compare the distributions.\n",
    "    \"\"\"\n",
    "    q_lengths1 = [len(preprocess_text(q)) for q in data1['question']]\n",
    "    q_lengths2 = [len(preprocess_text(q)) for q in data2['question']]\n",
    "    a_lengths1 = [len(preprocess_text(a)) for a in data1['answer']]\n",
    "    a_lengths2 = [len(preprocess_text(a)) for a in data2['answer']]\n",
    "    \n",
    "    q_statistic, q_pvalue = ks_2samp(q_lengths1, q_lengths2)\n",
    "    a_statistic, a_pvalue = ks_2samp(a_lengths1, a_lengths2)\n",
    "    \n",
    "    return (q_statistic, q_pvalue), (a_statistic, a_pvalue)\n",
    "\n",
    "def correlation_coefficient(data1, data2):\n",
    "    \"\"\"\n",
    "    Calculate Pearson's correlation coefficient.\n",
    "    \"\"\"\n",
    "    q_lengths1 = [len(preprocess_text(q)) for q in data1['question']]\n",
    "    q_lengths2 = [len(preprocess_text(q)) for q in data2['question']]\n",
    "    a_lengths1 = [len(preprocess_text(a)) for a in data1['answer']]\n",
    "    a_lengths2 = [len(preprocess_text(a)) for a in data2['answer']]\n",
    "    \n",
    "    q_corr_coef, q_pvalue = pearsonr(q_lengths1, q_lengths2)\n",
    "    a_corr_coef, a_pvalue = pearsonr(a_lengths1, a_lengths2)\n",
    "    \n",
    "    return (q_corr_coef, q_pvalue), (a_corr_coef, a_pvalue)"
   ]
  },
  {
   "cell_type": "code",
   "execution_count": 35,
   "metadata": {},
   "outputs": [
    {
     "name": "stdout",
     "output_type": "stream",
     "text": [
      "Dataset 1 Metrics:\n",
      "Statistical Similarity (Question, Answer): ((147.66666666666666, 60.266814159111554), (234.66666666666666, 118.67022466576114))\n",
      "KS Test Statistic (Question, Answer): (0.4, 0.18441617684449832)\n",
      "Correlation Coefficient (Question, Answer): (0.14762837910715754, 0.5995474589012386)\n",
      "\n",
      "Dataset 2 Metrics:\n",
      "Statistical Similarity (Question, Answer): ((113.33333333333333, 47.616057048950296), (244.26666666666668, 133.77865632786452))\n",
      "KS Test Statistic (Question, Answer): (0.2, 0.9383310279844598)\n",
      "Correlation Coefficient (Question, Answer): (-0.17883972483133398, 0.5236509924002763)\n"
     ]
    }
   ],
   "source": [
    "# Calculate metrics\n",
    "stat_sim1, stat_sim2 = statistical_similarity(dataset1), statistical_similarity(dataset2)\n",
    "ks_stat1, ks_stat2 = ks_test(dataset1, dataset2)\n",
    "corr_coef1, corr_coef2 = correlation_coefficient(dataset1, dataset2)\n",
    "\n",
    "# Print results\n",
    "print(\"Dataset 1 Metrics:\")\n",
    "print(f\"Statistical Similarity (Question, Answer): {stat_sim1}\")\n",
    "print(f\"KS Test Statistic (Question, Answer): {ks_stat1}\")\n",
    "print(f\"Correlation Coefficient (Question, Answer): {corr_coef1}\")\n",
    "\n",
    "print(\"\\nDataset 2 Metrics:\")\n",
    "print(f\"Statistical Similarity (Question, Answer): {stat_sim2}\")\n",
    "print(f\"KS Test Statistic (Question, Answer): {ks_stat2}\")\n",
    "print(f\"Correlation Coefficient (Question, Answer): {corr_coef2}\")"
   ]
  }
 ],
 "metadata": {
  "kernelspec": {
   "display_name": "Python 3",
   "language": "python",
   "name": "python3"
  },
  "language_info": {
   "codemirror_mode": {
    "name": "ipython",
    "version": 3
   },
   "file_extension": ".py",
   "mimetype": "text/x-python",
   "name": "python",
   "nbconvert_exporter": "python",
   "pygments_lexer": "ipython3",
   "version": "3.9.13"
  }
 },
 "nbformat": 4,
 "nbformat_minor": 2
}
